{
 "cells": [
  {
   "cell_type": "markdown",
   "metadata": {
    "collapsed": false
   },
   "source": [
    "# ChIP-seq analysis #"
   ]
  },
  {
   "cell_type": "code",
   "execution_count": null,
   "metadata": {
    "collapsed": false
   },
   "outputs": [],
   "source": [
    "# Functions used in this notebook\n",
    "read.bed <- function(file.bed, col.names = replicate(2, c(\"chrom\", \"start\", \"end\", \"name\", \"score\"))) {\n",
    "    bed <- read.delim(file.bed, header = FALSE, sep = \"\\t\",\n",
    "                      col.names = col.names)\n",
    "    # Drop empty columns, with all NAs\n",
    "    col.na <- sapply(bed, function(x) all(is.na(x)))\n",
    "    col.keep <- names(col.na)[!col.na]\n",
    "    bed[,col.keep]\n",
    "}\n",
    "\n",
    "write.bed <- function(df, file.bed) {\n",
    "    write.table(df, file = file.bed, quote = FALSE, sep = \"\\t\",\n",
    "                row.names = FALSE, col.names = FALSE)\n",
    "}\n",
    "                     \n",
    "counts2fpkm <- function(counts, length.eff) {\n",
    "    # See https://archive.is/V0bgu\n",
    "    exp(log(counts) + log(1e9) + log(length.eff) - log(colSums(counts)))\n",
    "}"
   ]
  },
  {
   "cell_type": "markdown",
   "metadata": {},
   "source": [
    "## 1.1 Pipeline script"
   ]
  },
  {
   "cell_type": "markdown",
   "metadata": {},
   "source": [
    "View [source](chipseq/Makefile)"
   ]
  },
  {
   "cell_type": "markdown",
   "metadata": {
    "collapsed": true
   },
   "source": [
    "## 1.2 Summary table ##"
   ]
  },
  {
   "cell_type": "code",
   "execution_count": null,
   "metadata": {
    "collapsed": false
   },
   "outputs": [],
   "source": [
    "reads.summary <- read.csv('chipseq/summary_reads.csv')\n",
    "reads.summary$yield.percent <- with(reads.summary,\n",
    "                                    reads.mapped.uniquely / reads.without.adapters * 100)\n",
    "reads.summary"
   ]
  },
  {
   "cell_type": "markdown",
   "metadata": {},
   "source": [
    "## 1.3 High confidence peaks ##"
   ]
  },
  {
   "cell_type": "code",
   "execution_count": null,
   "metadata": {
    "collapsed": false
   },
   "outputs": [],
   "source": [
    "chrom <- \"chr15\"\n",
    "treatments <- c(\"treat\", \"untr\")\n",
    "files.highconf <- paste0(\"chipseq/high_confidence_peaks.\", treatments, \".bed\")\n",
    "names(files.highconf) <- treatments\n",
    "files.reps <- paste0(\"chipseq/rep_\", 1:2, \"_\", rep(treatments, each = 2), \".\", chrom, \"_peaks.bed\")\n",
    "names(files.reps) <- paste0(rep(treatments, each = 2), 1:2)\n",
    "col.names.each <- c(\"chrom\", \"start\", \"end\", \"name\", \"score\")\n",
    "col.names <- c(paste(col.names.each,\n",
    "                     rep(c(\"1\", \"2\"), each = length(col.names.each)),\n",
    "                     sep = \".\"), \"overlap\")\n",
    "peaks.highconf <- lapply(treatments, function(treatment) {\n",
    "    # By default, `bedtools intersect` will require 50% overlap between the regions.\n",
    "    system(paste(\"bedtools intersect -wo\",\n",
    "                 \"-a\", files.reps[paste0(treatment, 1)],\n",
    "                 \"-b\", files.reps[paste0(treatment, 2)],\n",
    "                 \">\", files.highconf[treatment]))\n",
    "    read.bed(files.highconf[treatment], col.names = col.names)\n",
    "})\n",
    "names(peaks.highconf) <- treatments\n",
    "head(peaks.highconf[[\"treat\"]]); head(peaks.highconf[[\"untr\"]])"
   ]
  },
  {
   "cell_type": "markdown",
   "metadata": {},
   "source": [
    "## 1.4 Compare replicates ##"
   ]
  },
  {
   "cell_type": "code",
   "execution_count": null,
   "metadata": {
    "collapsed": false
   },
   "outputs": [],
   "source": [
    "corr <- lapply(treatments, function(treatment) {\n",
    "    with(peaks.highconf[[treatment]], cor(score.1, score.2))\n",
    "})\n",
    "names(corr) <- treatments\n",
    "df <- do.call(rbind, peaks.highconf)\n",
    "df$treatment <- gsub(\"[.].*\", \"\", rownames(df))\n",
    "rep1 <- df[,c(2, 3, 5, 12)]\n",
    "rep2 <- df[,c(7, 8, 10, 12)]\n",
    "col.names <- c(\"start\", \"end\", \"peak.score.highconf\", \"treatment\")\n",
    "names(rep1) <- col.names\n",
    "names(rep2) <- col.names\n",
    "df.all <- rbind(rep1, rep2)\n",
    "x <- mean(quantile(df.all$start)[1:2])\n",
    "y <- max(df.all$peak.score.highconf)\n",
    "ys <- log2(c(y, y/1.5))\n",
    "\n",
    "library(ggplot2)\n",
    "ggplot(df.all, aes(start, log2(peak.score.highconf), color = treatment)) + \n",
    "    geom_point() +\n",
    "    geom_smooth() +\n",
    "    annotate(\"text\", x = x, y = ys, label = paste0(\"corr \", treatments, \" = \", sprintf(\"%.3f\", corr)))"
   ]
  },
  {
   "cell_type": "markdown",
   "metadata": {},
   "source": [
    "## 1.5 Compare distribution of treated and untreated binding sites ##"
   ]
  },
  {
   "cell_type": "code",
   "execution_count": null,
   "metadata": {
    "collapsed": true
   },
   "outputs": [],
   "source": []
  },
  {
   "cell_type": "markdown",
   "metadata": {},
   "source": [
    "## 1.6 Compare TF binding between treatments ##"
   ]
  },
  {
   "cell_type": "code",
   "execution_count": null,
   "metadata": {
    "collapsed": true
   },
   "outputs": [],
   "source": []
  },
  {
   "cell_type": "markdown",
   "metadata": {},
   "source": [
    "## 1.7 Identify transcription factor binding motif"
   ]
  },
  {
   "cell_type": "code",
   "execution_count": null,
   "metadata": {
    "collapsed": true
   },
   "outputs": [],
   "source": []
  },
  {
   "cell_type": "markdown",
   "metadata": {},
   "source": [
    "---"
   ]
  },
  {
   "cell_type": "markdown",
   "metadata": {},
   "source": [
    "# RNA-seq analysis #"
   ]
  },
  {
   "cell_type": "markdown",
   "metadata": {},
   "source": [
    "## Pipeline script"
   ]
  },
  {
   "cell_type": "markdown",
   "metadata": {},
   "source": [
    "View [source](rnaseq/Makefile)"
   ]
  },
  {
   "cell_type": "markdown",
   "metadata": {},
   "source": [
    "## 2.2 Comparison of replicates"
   ]
  },
  {
   "cell_type": "code",
   "execution_count": null,
   "metadata": {
    "collapsed": false
   },
   "outputs": [],
   "source": [
    "# Read in the HTseq output as a data.frame\n",
    "files.htseq <- Sys.glob(\"rnaseq/*.htseq\")\n",
    "counts <- do.call(cbind.data.frame,\n",
    "                  lapply(files.htseq, read.delim, header = FALSE,\n",
    "                         sep = \"\\t\", row.names = 1,\n",
    "                         col.names = c(\"gene.id\", \"counts\")))\n",
    "# Set the column name to the filenames, but without the prefix and file extension\n",
    "col.names <- unlist(lapply(files.htseq, gsub,\n",
    "                           pattern = \"^rnaseq/RNAseq_(.*)_(.*)[.]htseq$\",\n",
    "                           replacement = \"\\\\2.\\\\1\"))\n",
    "names(counts) <- col.names\n",
    "counts <- head(counts, -5) # Drop the last 5 rows since they have summary statistics instead of gene counts\n",
    "nrow(counts); head(counts)"
   ]
  },
  {
   "cell_type": "code",
   "execution_count": null,
   "metadata": {
    "collapsed": false
   },
   "outputs": [],
   "source": [
    "file.genes <- \"/archive/MCB5429/annotations/hs/Beds/hg19_gencode_ENSG_geneID.bed\"\n",
    "genes <- read.bed(file.genes)\n",
    "genes$length <- genes$end - genes$start\n",
    "## Prepare to merge data.frames\n",
    "counts$gene.id <- rownames(counts)\n",
    "rownames(counts) <- NULL\n",
    "## Remove .NN suffix to match gene.id\n",
    "counts$gene.id <- sub(\"\\\\..*\", \"\", counts$gene.id)\n",
    "names(genes)[names(genes) == \"name\"] <- \"gene.id\"\n",
    "merged <- merge(counts, genes)\n",
    "## FPKM calculation per https://archive.is/V0bgu\n",
    "fpkm <- counts2fpkm(merged[,col.names], merged$length)\n",
    "nrow(fpkm); head(fpkm)"
   ]
  },
  {
   "cell_type": "code",
   "execution_count": null,
   "metadata": {
    "collapsed": false
   },
   "outputs": [],
   "source": [
    "library(ggplot2)\n",
    "cor.treat <- cor(fpkm$treat.1, fpkm$treat.2)\n",
    "ggplot(log2(fpkm), aes(treat.1, treat.2)) +\n",
    "    geom_point() + geom_smooth() +\n",
    "    annotate(\"text\", label = sprintf(\"Correlation = %.3f\", cor.treat),\n",
    "             x = 30, y = 15)"
   ]
  },
  {
   "cell_type": "code",
   "execution_count": null,
   "metadata": {
    "collapsed": false
   },
   "outputs": [],
   "source": [
    "cor.untr <- cor(fpkm$untr.1, fpkm$untr.2)\n",
    "ggplot(log2(fpkm), aes(untr.1, untr.2)) +\n",
    "    geom_point() + geom_smooth() +\n",
    "    annotate(\"text\", label = sprintf(\"Correlation = %.3f\", cor.untr),\n",
    "             x = 30, y = 15)"
   ]
  },
  {
   "cell_type": "markdown",
   "metadata": {},
   "source": [
    "## 2.3 Differential Gene Expression"
   ]
  },
  {
   "cell_type": "markdown",
   "metadata": {},
   "source": [
    "Determined all 4 datasets are single ended and not paired end using\n",
    "RSeQC per https://www.biostars.org/p/66627/#134380:\n",
    "\n",
    "```sh\n",
    "pip install --user RSeQC\n",
    "ls *.sorted.sam | xargs -n1 ~/.local/bin/infer_experiment.py \\\n",
    "   -r /archive/MCB5429/annotations/hs/Beds/hg19_gencode_ENSG_geneID.bed -i\n",
    "```\n",
    "\n",
    "```\n",
    "...\n",
    "This is SingleEnd Data\n",
    "Fraction of reads failed to determine: 0.0150\n",
    "Fraction of reads explained by \"++,--\": 0.4927\n",
    "Fraction of reads explained by \"+-,-+\": 0.4923\n",
    "...\n",
    "```"
   ]
  },
  {
   "cell_type": "code",
   "execution_count": null,
   "metadata": {
    "collapsed": false,
    "scrolled": true
   },
   "outputs": [],
   "source": [
    "suppressMessages(library(DESeq2))\n",
    "## Create DESeq2 object using DESeqDataFromMatrix\n",
    "## \n",
    "## Generate countData\n",
    "countData <- merged[col.names]\n",
    "rownames(countData) <- merged$gene.id\n",
    "## Generate colData\n",
    "conditioner <- function(s) if (grepl(\"untr\", s)) \"untreated\" else \"treated\"\n",
    "condition <- unlist(lapply(col.names, conditioner))\n",
    "type <- replicate(length(condition), \"single-read\")\n",
    "colData <- cbind.data.frame(condition, type)\n",
    "rownames(colData) <- col.names\n",
    "## Combine into DESeq2 object\n",
    "dds <- DESeqDataSetFromMatrix(countData = countData,\n",
    "                              colData = colData,\n",
    "                              design = ~ condition)\n",
    "dds$condition <- relevel(dds$condition, ref = \"untreated\")\n",
    "dds <- DESeq(dds)\n",
    "dds"
   ]
  },
  {
   "cell_type": "code",
   "execution_count": null,
   "metadata": {
    "collapsed": false
   },
   "outputs": [],
   "source": [
    "res <- results(dds)\n",
    "plotMA(res, ylim = c(-1.5, 2))"
   ]
  },
  {
   "cell_type": "markdown",
   "metadata": {},
   "source": [
    "## 2.4 Parse out regulated genes"
   ]
  },
  {
   "cell_type": "code",
   "execution_count": null,
   "metadata": {
    "collapsed": false
   },
   "outputs": [],
   "source": [
    "res.df <- as.data.frame(res)\n",
    "## Get significant rows with pvalue < 0.05\n",
    "res.df <- na.omit(res.df[res.df$pvalue < 0.05,])\n",
    "## Regulated gene names\n",
    "res.df$reg <- as.factor(ifelse(res.df$log2FoldChange > 0, \"up\", \"down\"))\n",
    "reg <- rownames(res.df)\n",
    "head(res.df)"
   ]
  },
  {
   "cell_type": "code",
   "execution_count": null,
   "metadata": {
    "collapsed": false
   },
   "outputs": [],
   "source": [
    "upReg <- rownames(res.df[res.df$reg == \"up\",])\n",
    "downReg <- rownames(res.df[res.df$reg == \"down\",])\n",
    "write.csv(res.df, file = \"rnaseq/reg.csv\", quote = FALSE)\n",
    "## Write bed file of regulated genes\n",
    "reg.bed <- subset(read.bed(file.genes), name %in% reg)\n",
    "nrow(reg.bed); head(reg.bed)"
   ]
  },
  {
   "cell_type": "code",
   "execution_count": null,
   "metadata": {
    "collapsed": true
   },
   "outputs": [],
   "source": [
    "write.bed(reg.bed, \"rnaseq/reg.bed\")"
   ]
  },
  {
   "cell_type": "markdown",
   "metadata": {},
   "source": [
    "## 2.5 Distances between regulated gene TSS and ChIP-seq peaks"
   ]
  },
  {
   "cell_type": "code",
   "execution_count": null,
   "metadata": {
    "collapsed": false
   },
   "outputs": [],
   "source": [
    "file.chip.peaks <- \"/archive/MCB5429/Final_data/ChIPseq/MACSout/ChIP_overlap_treat_peaks_allChr.bed\"\n",
    "system(paste(\"bedtools closest -d -a rnaseq/reg.bed -b\", file.chip.peaks,\n",
    "             \"> rnaseq/reg.dist\"))\n",
    "col.names.dist <- c(\"chrom\", \"start\", \"end\", \"gene.id\", \"score\",\n",
    "                    \"strand\", \"chrom.peak\", \"start.peak\", \"stop.peak\",\n",
    "                    \"peak.id\", \"score.peak\", \"dist\")\n",
    "dist <- read.delim(\"rnaseq/reg.dist\", header = FALSE, sep = \"\\t\",\n",
    "                   col.names = col.names.dist)\n",
    "nrow(dist); head(dist)"
   ]
  },
  {
   "cell_type": "code",
   "execution_count": null,
   "metadata": {
    "collapsed": false
   },
   "outputs": [],
   "source": [
    "res.df$gene.id <- rownames(res.df)\n",
    "rownames(res.df) <- NULL\n",
    "merged <- merge(dist, res.df, by = \"gene.id\")\n",
    "ggplot(merged, aes(log2(dist), color = reg)) + stat_ecdf()"
   ]
  },
  {
   "cell_type": "markdown",
   "metadata": {},
   "source": [
    "## 2.6 Screenshot from Browser"
   ]
  },
  {
   "cell_type": "code",
   "execution_count": null,
   "metadata": {
    "collapsed": false
   },
   "outputs": [],
   "source": [
    "# Select interesting genes to view in the genome browser\n",
    "within.1k <- merged[merged$dist <= 1000,]\n",
    "sorted <- within.1k[with(within.1k,\n",
    "                         order(dist, -abs(log2FoldChange), score.peak)),]\n",
    "head(sorted)"
   ]
  },
  {
   "cell_type": "markdown",
   "metadata": {},
   "source": [
    "Interestingly, the top hits on chromosome 19 and 17 only appear in\n",
    "untr.2 and none of the other samples, so it seems like an artifact.\n",
    "Therefore, I look at the next highest hits on chr3 instead."
   ]
  }
 ],
 "metadata": {
  "kernelspec": {
   "display_name": "R",
   "language": "R",
   "name": "ir"
  },
  "language_info": {
   "codemirror_mode": "r",
   "file_extension": ".r",
   "mimetype": "text/x-r-source",
   "name": "R",
   "pygments_lexer": "r",
   "version": "3.2.2"
  }
 },
 "nbformat": 4,
 "nbformat_minor": 0
}
